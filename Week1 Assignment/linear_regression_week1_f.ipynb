{
 "cells": [
  {
   "cell_type": "code",
   "execution_count": 1,
   "metadata": {
    "id": "-zTLHrFCT6KY"
   },
   "outputs": [],
   "source": [
    "import numpy as np\n",
    "import pandas as pd\n",
    "import matplotlib.pyplot as plt\n",
    "\n",
    "# Aim is to predict the marks of students of the test data"
   ]
  },
  {
   "cell_type": "code",
   "execution_count": 2,
   "metadata": {
    "id": "p0KHq8ZgTpU4"
   },
   "outputs": [],
   "source": [
    "# Use the file namd 'training data' to train the model\n",
    "\n",
    "data = pd.read_excel('Training data.xlsx')\n",
    "x_train = np.array(data.iloc[:,0:8])\n",
    "y_train = np.array(data.iloc[:,8]).reshape(-1,1)\n",
    "# Try plotting y_train with different features\n",
    "# To get an idea whether to add some features or not\n",
    "# Add some features if required in x_train\n",
    "\n",
    "# Also do label encoding for features not represented in numbers\n",
    "# refer the link if not know : https://youtu.be/589nCGeWG1w?si=t2Wa7LgbUOO4RooM\n",
    "\n",
    "def feature_changing(x_train):\n",
    "  x_train[:,0]=np.where(x_train[:,0]=='no',0,1)\n",
    "  x_train[:,1]=np.where(x_train[:,1]=='F',0,1)\n",
    "  return x_train\n",
    "    \n",
    "x_train = feature_changing(x_train)"
   ]
  },
  {
   "cell_type": "code",
   "execution_count": 3,
   "metadata": {
    "id": "tYshvtYlVour"
   },
   "outputs": [],
   "source": [
    "def z_score(x_train):\n",
    "    x_mean = np.mean(x_train,axis=0)\n",
    "    x_std = np.std(x_train,axis=0)\n",
    "    x_train = (x_train-x_mean)/x_std\n",
    "    return x_train,x_std,x_mean"
   ]
  },
  {
   "cell_type": "code",
   "execution_count": 4,
   "metadata": {
    "id": "O5dOwbNbWJWa"
   },
   "outputs": [],
   "source": [
    "def cost(x_train,y_train,w,b):\n",
    "    m=x_train.shape[0]\n",
    "    coste = 0.0\n",
    "    \n",
    "    for i in range(m):                                \n",
    "        f_wb_i = np.dot(x_train[i], w) + b\n",
    "        coste = coste + (f_wb_i - y_train[i])**2\n",
    "        \n",
    "    coste = coste / (2 * m)  \n",
    "    return coste"
   ]
  },
  {
   "cell_type": "code",
   "execution_count": 5,
   "metadata": {
    "id": "hW8p2cTNU74W"
   },
   "outputs": [],
   "source": [
    "def compute_gradient(X, y, w, b): \n",
    "    \n",
    "    m,n = X.shape\n",
    "    dj_dw = np.zeros((n,))\n",
    "    dj_db = 0.\n",
    "    \n",
    "    for i in range(m):                             \n",
    "        err = (np.dot(X[i], w) + b) - y[i]   \n",
    "        for j in range(n):                         \n",
    "            dj_dw[j] = dj_dw[j] + err * X[i, j]    \n",
    "            \n",
    "        dj_db = dj_db + err    \n",
    "        \n",
    "    dj_dw = dj_dw / m\n",
    "    dj_db = dj_db / m                                \n",
    "    return dj_db, dj_dw\n",
    "    \n",
    "def gradient_descent(x_train,y_train,w,b):\n",
    "    dj_db,dj_dw=compute_gradient(x_train,y_train,w,b)\n",
    "    w = w - 0.01 * dj_dw\n",
    "    b = b - 0.01 * dj_db\n",
    "    return w,b"
   ]
  },
  {
   "cell_type": "code",
   "execution_count": 8,
   "metadata": {
    "id": "Kl-fioJ5WkYn"
   },
   "outputs": [
    {
     "name": "stderr",
     "output_type": "stream",
     "text": [
      "C:\\Users\\Rushikesh\\AppData\\Local\\Temp\\ipykernel_9996\\1298045823.py:8: DeprecationWarning: Conversion of an array with ndim > 0 to a scalar is deprecated, and will error in future. Ensure you extract a single element from your array before performing this operation. (Deprecated NumPy 1.25.)\n",
      "  dj_dw[j] = dj_dw[j] + err * X[i, j]\n"
     ]
    },
    {
     "name": "stdout",
     "output_type": "stream",
     "text": [
      "Optimization required, your accuracy is 0.0%\n"
     ]
    }
   ],
   "source": [
    "x_train = x_train.astype(np.float64)\n",
    "x_train,x_std,x_mean = z_score(x_train)\n",
    "np.random.seed(2147483647)\n",
    "w = np.random.randn(x_train.shape[1],)\n",
    "b = np.random.randn(1)\n",
    "old_cost = 0.0\n",
    "w,b=gradient_descent(x_train,y_train,w,b)\n",
    "while abs(old_cost - cost(x_train,y_train,w,b)[0]) > 0.00001:\n",
    "  old_cost = cost(x_train,y_train,w,b)[0]\n",
    "  w,b = gradient_descent(x_train,y_train,w,b)\n",
    "x_predict = pd.read_excel('Test data.xlsx').iloc[:,:8].to_numpy()\n",
    "x_predict = feature_changing(x_predict)\n",
    "x_predict = (x_predict - x_mean)/x_std\n",
    "ans = pd.read_excel('Test data.xlsx').iloc[:,8].to_numpy()\n",
    "\n",
    "y_predict = np.dot(x_predict,w) + b\n",
    "accuracy = 0\n",
    "for dim in range(len(ans)):\n",
    "  if abs(y_predict[dim]-ans[dim])<0.5: # do not change the tolerance as you'll be checked on +- 0.5 error only\n",
    "    accuracy += 1\n",
    "accuracy = round(accuracy*100/200.0,2)\n",
    "ok = 'Congratulations' if accuracy>95 else 'Optimization required'\n",
    "print(f\"{ok}, your accuracy is {accuracy}%\")"
   ]
  }
 ],
 "metadata": {
  "colab": {
   "provenance": []
  },
  "kernelspec": {
   "display_name": "Python 3 (ipykernel)",
   "language": "python",
   "name": "python3"
  },
  "language_info": {
   "codemirror_mode": {
    "name": "ipython",
    "version": 3
   },
   "file_extension": ".py",
   "mimetype": "text/x-python",
   "name": "python",
   "nbconvert_exporter": "python",
   "pygments_lexer": "ipython3",
   "version": "3.12.3"
  },
  "widgets": {
   "application/vnd.jupyter.widget-state+json": {
    "state": {},
    "version_major": 2,
    "version_minor": 0
   }
  }
 },
 "nbformat": 4,
 "nbformat_minor": 4
}
